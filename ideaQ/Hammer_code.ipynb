{
 "cells": [
  {
   "cell_type": "code",
   "execution_count": null,
   "metadata": {},
   "outputs": [],
   "source": [
    "import numpy as np"
   ]
  },
  {
   "cell_type": "markdown",
   "metadata": {},
   "source": [
    "Define the function for calculating Hamming distance"
   ]
  },
  {
   "cell_type": "code",
   "execution_count": null,
   "metadata": {},
   "outputs": [],
   "source": [
    "def hamming_distance(x, y):\n",
    "    \"\"\"\n",
    "    Calculate the Hamming distance between two strings.\n",
    "\n",
    "    Parameters:\n",
    "        x: First string.\n",
    "        y: Second string.\n",
    "\n",
    "    Returns:\n",
    "        int: Hamming distance between the two strings.\n",
    "    \"\"\"\n",
    "    \n",
    "    x = np.array(list(x))\n",
    "    y = np.array(list(y))\n",
    "    \n",
    "    return np.sum(x != y)"
   ]
  },
  {
   "cell_type": "markdown",
   "metadata": {},
   "source": [
    "# Hammer Algorithm"
   ]
  },
  {
   "cell_type": "code",
   "execution_count": null,
   "metadata": {},
   "outputs": [],
   "source": [
    "def hammer(p_in,n):\n",
    "    \n",
    "    \"\"\"\n",
    "    Update a probability distribution based on Hamming distances.\n",
    "\n",
    "    Parameters:\n",
    "        p_in (dict): Input probability distribution where keys are strings and values are probabilities.\n",
    "        n (int): Length of strings in the input distribution.\n",
    "\n",
    "    Returns:\n",
    "        dict: Updated probability distribution.\n",
    "    \"\"\"\n",
    "    \n",
    "    # Step-1: Create Hamming Spectrum\n",
    "    \"\"\"\n",
    "    1) Iterate through all pairs of strings in the input probability distribution.\n",
    "    2) Calculate the Hamming distance between each pair of strings.\n",
    "    3) Accumulate the probabilities of strings that have a Hamming distance within a certain range (n // 2) into an array chs. \n",
    "        \n",
    "    \"\"\"\n",
    "    chs = np.zeros(n//2)\n",
    "    for x in p_in:\n",
    "        for y in p_in:\n",
    "            d = hamming_distance(x, y)\n",
    "            if d < n//2:\n",
    "                chs[d] += p_in[y]\n",
    "    \n",
    "    # Step-2: Compute Per-Distance Weights\n",
    "    \"\"\" \n",
    "    1) Iterate through the Hamming distances computed in the previous step.\n",
    "    2) If the count of strings at a particular Hamming distance is greater than zero, computes and stores(w) the weight as the reciprocal of that count.\n",
    "    \n",
    "    \"\"\"\n",
    "    w = np.zeros(n//2)\n",
    "    for d in range(n//2):\n",
    "        if chs[d] > 0:\n",
    "            w[d] = 1 / chs[d]\n",
    "    \n",
    "    # Step-3: Update the Probability Distribution\n",
    "    \"\"\"\n",
    "    1) Updates each string's probability by considering its similarity to other strings within a certain Hamming distance.\n",
    "    2) It iterates through each string, adjusting its probability based on the probabilities of similar strings weighted by their Hamming distance. \n",
    "    3) Finally, it stores the updated probabilities in a dictionary\n",
    "    \n",
    "    \"\"\"\n",
    "    p_out = {}\n",
    "    for x in p_in:\n",
    "        score = p_in[x]\n",
    "        for y in p_in:\n",
    "            d = hamming_distance(x, y)\n",
    "            if d < n//2 and p_in[x] > p_in[y]:\n",
    "                score += w[d] * p_in[y]\n",
    "        p_out[x] = score * p_in[x]\n",
    "    \n",
    "    # Normalize the probability distribution\n",
    "    total = sum(p_out.values())\n",
    "    p_out = {key: value / total for key, value in p_out.items()}\n",
    "    \n",
    "    return p_out"
   ]
  },
  {
   "cell_type": "code",
   "execution_count": null,
   "metadata": {},
   "outputs": [],
   "source": [
    "x = '10101010'\n",
    "y = '01010101'"
   ]
  },
  {
   "cell_type": "code",
   "execution_count": null,
   "metadata": {},
   "outputs": [],
   "source": [
    "print(hamming_distance(x,y))"
   ]
  },
  {
   "cell_type": "code",
   "execution_count": null,
   "metadata": {},
   "outputs": [],
   "source": []
  }
 ],
 "metadata": {
  "kernelspec": {
   "display_name": "Python 3",
   "language": "python",
   "name": "python3"
  },
  "language_info": {
   "codemirror_mode": {
    "name": "ipython",
    "version": 3
   },
   "file_extension": ".py",
   "mimetype": "text/x-python",
   "name": "python",
   "nbconvert_exporter": "python",
   "pygments_lexer": "ipython3",
   "version": "3.12.2"
  }
 },
 "nbformat": 4,
 "nbformat_minor": 2
}
