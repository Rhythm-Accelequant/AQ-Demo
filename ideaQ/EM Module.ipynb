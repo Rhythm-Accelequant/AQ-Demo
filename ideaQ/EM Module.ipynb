{
 "cells": [
  {
   "cell_type": "code",
   "execution_count": 5,
   "metadata": {},
   "outputs": [],
   "source": [
    "from qiskit import QuantumCircuit, transpile, assemble\n",
    "from qiskit_aer import AerSimulator\n",
    "from qiskit_aer.noise import NoiseModel\n",
    "from qiskit_ibm_runtime.fake_provider import FakeArmonkV2, FakeLondonV2, FakeJakartaV2, FakeMelbourneV2\n",
    "from qiskit.circuit.library import QuantumVolume\n",
    "from qiskit_algorithms.utils import algorithm_globals\n",
    "from qiskit import QiskitError\n",
    "import numpy as np\n",
    "from qiskit.circuit.library import EfficientSU2\n",
    "from qiskit.quantum_info import SparsePauliOp"
   ]
  },
  {
   "cell_type": "code",
   "execution_count": 6,
   "metadata": {},
   "outputs": [],
   "source": [
    "# This will make it easier for the estimator to evaluate a Hamiltonian\n",
    "# INPUT: Dictionary containing measurement outcomes (dict) and their counts and Number of qubits (int)\n",
    "# OUTPUT: Statevector (class 'qiskit.quantum_info.states.statevector.Statevector')\n",
    "#----------------------------------------------------------------------------------\n",
    "from qiskit.quantum_info import Statevector\n",
    "\n",
    "def statevector_from_counts(counts, num_qubits):\n",
    "    \"\"\"\n",
    "    Convert measurement counts to a statevector.\n",
    "\n",
    "    Args:\n",
    "        counts (dict): Dictionary containing measurement outcomes and their counts.\n",
    "        num_qubits (int): Number of qubits in the quantum circuit.\n",
    "\n",
    "    Returns:\n",
    "        Statevector: The statevector corresponding to the given counts.\n",
    "    \"\"\"\n",
    "    statevector_data = []\n",
    "    total_counts = sum(counts.values())\n",
    "\n",
    "    for outcome in range(2**num_qubits):\n",
    "        outcome_str = format(outcome, f'0{num_qubits}b')\n",
    "        statevector_data.append((counts.get(outcome_str, 0) / total_counts) ** 0.5)\n",
    "    return Statevector(statevector_data)\n",
    "\n",
    "# # Example usage:\n",
    "# # Measurement counts obtained from the quantum circuit\n",
    "# counts = {'00': 500, '01': 200, '10': 300}\n",
    "\n",
    "# # Number of qubits in the quantum circuit\n",
    "# num_qubits = 2\n",
    "\n",
    "# # Convert counts to statevector\n",
    "# statevector = statevector_from_counts(counts, num_qubits)\n",
    "\n",
    "# print(\"Statevector:\", statevector)\n"
   ]
  },
  {
   "cell_type": "code",
   "execution_count": 7,
   "metadata": {},
   "outputs": [],
   "source": [
    "import numpy as np\n",
    "from qiskit.quantum_info import Statevector, SparsePauliOp\n",
    "\n",
    "def create_hamiltonian_matrix(sparse_pauli_op):\n",
    "    # Initialize the total Hamiltonian matrix\n",
    "    num_qubits = sparse_pauli_op.num_qubits\n",
    "    total_hamiltonian = np.zeros((2**num_qubits, 2**num_qubits), dtype=complex)\n",
    "    \n",
    "    # Iterate through each term in the SparsePauliOp\n",
    "    for pauli_string, coeff in zip(sparse_pauli_op.paulis, sparse_pauli_op.coeffs):\n",
    "        # Start with the identity matrix\n",
    "        term_matrix = np.eye(1, dtype=complex)\n",
    "        \n",
    "        # Construct the term matrix for the current Pauli string\n",
    "        for pauli in pauli_string.to_label():\n",
    "            if pauli == 'I':\n",
    "                pauli_matrix = np.eye(2)\n",
    "            elif pauli == 'X':\n",
    "                pauli_matrix = np.array([[0, 1], [1, 0]], dtype=complex)\n",
    "            elif pauli == 'Y':\n",
    "                pauli_matrix = np.array([[0, -1j], [1j, 0]], dtype=complex)\n",
    "            elif pauli == 'Z':\n",
    "                pauli_matrix = np.array([[1, 0], [0, -1]], dtype=complex)\n",
    "            else:\n",
    "                raise ValueError(f\"Unexpected Pauli operator: {pauli}\")\n",
    "            term_matrix = np.kron(term_matrix, pauli_matrix)\n",
    "        \n",
    "        # Add the term to the total Hamiltonian\n",
    "        total_hamiltonian += coeff * term_matrix\n",
    "    \n",
    "    return total_hamiltonian\n",
    "\n",
    "def compute_expectation(statevector: Statevector, hamiltonian: SparsePauliOp) -> complex:\n",
    "    \"\"\"\n",
    "    Compute the expectation value of the given Hamiltonian with respect to the given statevector.\n",
    "    \n",
    "    Args:\n",
    "        statevector (Statevector): The statevector representing the quantum state.\n",
    "        hamiltonian (SparsePauliOp): The Hamiltonian terms in SparsePauliOp form.\n",
    "    \n",
    "    Returns:\n",
    "        complex: The expectation value of the Hamiltonian.\n",
    "    \"\"\"\n",
    "    # Convert SparsePauliOp to a matrix\n",
    "    hamiltonian_matrix = create_hamiltonian_matrix(hamiltonian)\n",
    "    \n",
    "    # Compute the expectation value\n",
    "    statevector_array = statevector.data\n",
    "    expectation_value = np.vdot(statevector_array, hamiltonian_matrix @ statevector_array)\n",
    "    \n",
    "    return expectation_value.real"
   ]
  },
  {
   "cell_type": "code",
   "execution_count": 8,
   "metadata": {},
   "outputs": [],
   "source": [
    "# INPUT: Dictionary (dic)\n",
    "# OUTPUT: Dictionary with normalized  values (dic)\n",
    "def normalize(counts):\n",
    "    counts_norm = {}\n",
    "    for key , val in counts.items():\n",
    "        counts_norm[key] =  val/ sum(counts.values()) \n",
    "    return counts_norm"
   ]
  },
  {
   "cell_type": "markdown",
   "metadata": {},
   "source": [
    "### 1) Hammer Error Mitigation Technique"
   ]
  },
  {
   "cell_type": "code",
   "execution_count": 9,
   "metadata": {},
   "outputs": [],
   "source": [
    "def hamming_distance(x, y):\n",
    "    \"\"\"\n",
    "    Calculate the Hamming distance between two strings.\n",
    "\n",
    "    Parameters:\n",
    "        x: First string.\n",
    "        y: Second string.\n",
    "\n",
    "    Returns:\n",
    "        int: Hamming distance between the two strings.\n",
    "    \"\"\"\n",
    "    \n",
    "    x = np.array(list(x))\n",
    "    y = np.array(list(y))\n",
    "    \n",
    "    return np.sum(x != y)"
   ]
  },
  {
   "cell_type": "code",
   "execution_count": 10,
   "metadata": {},
   "outputs": [],
   "source": [
    "def hammer(p_in,n):\n",
    "    \n",
    "    \"\"\"\n",
    "    Update a probability distribution based on Hamming distances.\n",
    "\n",
    "    Parameters:\n",
    "        p_in (dict): Input probability distribution where keys are strings and values are probabilities.\n",
    "        n (int): Length of strings in the input distribution.\n",
    "\n",
    "    Returns:\n",
    "        dict: Updated probability distribution.\n",
    "    \"\"\"\n",
    "    \n",
    "    # Step-1: Create Hamming Spectrum\n",
    "    \"\"\"\n",
    "    1) Iterate through all pairs of strings in the input probability distribution.\n",
    "    2) Calculate the Hamming distance between each pair of strings.\n",
    "    3) Accumulate the probabilities of strings that have a Hamming distance within a certain range (n // 2) into an array chs. \n",
    "        \n",
    "    \"\"\"\n",
    "    chs = np.zeros(n//2)\n",
    "    for x in p_in:\n",
    "        for y in p_in:\n",
    "            d = hamming_distance(x, y)\n",
    "            if d < n//2:\n",
    "                chs[d] += p_in[y]\n",
    "    \n",
    "    # Step-2: Compute Per-Distance Weights\n",
    "    \"\"\" \n",
    "    1) Iterate through the Hamming distances computed in the previous step.\n",
    "    2) If the count of strings at a particular Hamming distance is greater than zero, computes and stores(w) the weight as the reciprocal of that count.\n",
    "    \n",
    "    \"\"\"\n",
    "    w = np.zeros(n//2)\n",
    "    for d in range(n//2):\n",
    "        if chs[d] > 0:\n",
    "            w[d] = 1 / chs[d]\n",
    "    \n",
    "    # Step-3: Update the Probability Distribution\n",
    "    \"\"\"\n",
    "    1) Updates each string's probability by considering its similarity to other strings within a certain Hamming distance.\n",
    "    2) It iterates through each string, adjusting its probability based on the probabilities of similar strings weighted by their Hamming distance. \n",
    "    3) Finally, it stores the updated probabilities in a dictionary\n",
    "    \n",
    "    \"\"\"\n",
    "    p_out = {}\n",
    "    for x in p_in:\n",
    "        score = p_in[x]\n",
    "        for y in p_in:\n",
    "            d = hamming_distance(x, y)\n",
    "            if d < n//2 and p_in[x] > p_in[y]:\n",
    "                score += w[d] * p_in[y]\n",
    "        p_out[x] = score * p_in[x]\n",
    "    \n",
    "    # Normalize the probability distribution\n",
    "    total = sum(p_out.values())\n",
    "    p_out = {key: value / total for key, value in p_out.items()}\n",
    "    \n",
    "    return p_out"
   ]
  },
  {
   "cell_type": "markdown",
   "metadata": {},
   "source": [
    "### 2) M3 Error Mitigation Technique"
   ]
  },
  {
   "cell_type": "code",
   "execution_count": 15,
   "metadata": {},
   "outputs": [],
   "source": [
    "import mthree"
   ]
  },
  {
   "cell_type": "code",
   "execution_count": 19,
   "metadata": {},
   "outputs": [],
   "source": [
    "def M3(backend, counts_noisy, Q):\n",
    "    mit = mthree.M3Mitigation(backend)\n",
    "    mit.cals_from_system(range(Q))\n",
    "    quasis = mit.apply_correction(counts_noisy, range(Q))\n",
    "    prob_list_fake_M3 = quasis.nearest_probability_distribution()\n",
    "    \n",
    "    counts_fake_M3 = {key: value * 2048 for key, value in prob_list_fake_M3.items()}\n",
    "    \n",
    "    return prob_list_fake_M3, counts_fake_M3"
   ]
  },
  {
   "cell_type": "markdown",
   "metadata": {},
   "source": [
    "### 3) ZNE Error Mitigation Technique"
   ]
  },
  {
   "cell_type": "code",
   "execution_count": 21,
   "metadata": {},
   "outputs": [],
   "source": [
    "from zne import zne, ZNEStrategy\n",
    "from zne.noise_amplification import LocalFoldingAmplifier\n",
    "from zne.extrapolation import PolynomialExtrapolator\n",
    "from qiskit.primitives import BackendEstimator"
   ]
  },
  {
   "cell_type": "code",
   "execution_count": 23,
   "metadata": {},
   "outputs": [
    {
     "name": "stdout",
     "output_type": "stream",
     "text": [
      "SparsePauliOp(['ZIIIII', 'IZIIII', 'IIZIII', 'IIIZII', 'IIIIZI', 'IIIIIZ'],\n",
      "              coeffs=[1.+0.j, 1.+0.j, 1.+0.j, 1.+0.j, 1.+0.j, 1.+0.j])\n"
     ]
    }
   ],
   "source": [
    "def zne_hamiltonian(num_qubits):\n",
    "    pauli_list = []\n",
    "    for i in range(num_qubits):\n",
    "        pauli_string = ['I'] * num_qubits\n",
    "        pauli_string[i] = 'Z'\n",
    "        pauli_list.append((\"\".join(pauli_string), 1.0))\n",
    "    \n",
    "    hamiltonian = SparsePauliOp.from_list(pauli_list)\n",
    "    return hamiltonian\n",
    "\n",
    "# Example usage:\n",
    "num_qubits = 6\n",
    "hamiltonian = zne_hamiltonian(num_qubits)\n",
    "print(hamiltonian)"
   ]
  },
  {
   "cell_type": "code",
   "execution_count": 24,
   "metadata": {},
   "outputs": [],
   "source": [
    "def ZNE_EM(backend, Q):\n",
    "\n",
    "    ## Build ZNEEstimator\n",
    "    ZNEEstimator = zne(BackendEstimator)\n",
    "    estimator = ZNEEstimator(backend=backend)\n",
    "\n",
    "    ## Build a ZNE strategy\n",
    "    zne_strategy = ZNEStrategy(\n",
    "    noise_factors=range(1, 9),\n",
    "    noise_amplifier=LocalFoldingAmplifier(),\n",
    "    extrapolator=PolynomialExtrapolator(degree=2),\n",
    "    )\n",
    "    \n",
    "    zne_Hamiltonian = zne_hamiltonian(Q) # Hamiltonian Format has to be modifies accordingly\n",
    "    qc_zne = qc.decompose(reps=1)\n",
    "    \n",
    "    job = estimator.run(qc_zne, zne_Hamiltonian, zne_strategy=zne_strategy)\n",
    "    result = job.result()  \n",
    "    \n",
    "    return result.values[0]"
   ]
  },
  {
   "cell_type": "markdown",
   "metadata": {},
   "source": [
    "### 4) PEC Error Mitigation Technique"
   ]
  },
  {
   "cell_type": "markdown",
   "metadata": {},
   "source": [
    "Will Update it soon after reviewing Trivikram's code"
   ]
  },
  {
   "cell_type": "markdown",
   "metadata": {},
   "source": [
    "### EM Module Example Usage"
   ]
  },
  {
   "cell_type": "code",
   "execution_count": 11,
   "metadata": {},
   "outputs": [
    {
     "data": {
      "text/plain": [
       "<qiskit.circuit.library.n_local.efficient_su2.EfficientSU2 at 0x7245f461b650>"
      ]
     },
     "execution_count": 11,
     "metadata": {},
     "output_type": "execute_result"
    }
   ],
   "source": [
    "n = 4\n",
    "n_l = 1\n",
    "parameters = [0.35639821, 1.83116028, 0.35237865, 0.05872481, 0.47333053, 0.72818138,\n",
    " 0.67848991, 0.06465341, 0.49701685, 0.19592492, 0.0345368,  0.9796208,\n",
    " 0.7048751,  0.36096984, 0.77599956, 0.79115251]\n",
    "\n",
    "backend_fake = FakeLondonV2()\n",
    "backend_ideal = AerSimulator()\n",
    "\n",
    "circuit = EfficientSU2(n,reps=n_l,entanglement='circular')\n",
    "circuit.assign_parameters(parameters)"
   ]
  },
  {
   "cell_type": "code",
   "execution_count": 12,
   "metadata": {},
   "outputs": [],
   "source": [
    "def circuit_run(circuit, backend, hamiltonian): \n",
    "   circuit = circuit.assign_parameters(parameters)\n",
    "   circuit.measure_all()\n",
    "   tcirc = transpile(circuit, backend)\n",
    "   job = backend.run(tcirc)\n",
    "   counts = job.result().get_counts()\n",
    "   total_counts = sum(counts.values())\n",
    "   #Making a List of probabilities from counts \n",
    "   prob_list = normalize(counts)\n",
    "   # SV From Counts\n",
    "   statevector = statevector_from_counts(prob_list, n)\n",
    "   # Exp from SV and Hamiltonian\n",
    "   exp_val = compute_expectation(statevector, hamiltonian)\n",
    "   \n",
    "   return  prob_list,statevector, exp_val"
   ]
  },
  {
   "cell_type": "code",
   "execution_count": 13,
   "metadata": {},
   "outputs": [
    {
     "name": "stdout",
     "output_type": "stream",
     "text": [
      "-0.171875 | -0.08398437500000006 | -0.24432826108776054\n",
      "0.3515625 | 0.23828125 | 0.6497411804086122\n",
      "0.3847656249999999 | 0.26171874999999994 | 0.6866078441545282\n",
      "0.69921875 | 0.43359375 | 0.8213148914612348\n",
      "0.942913909129578 | 0.9772975146514824 | 0.9136198506989367\n",
      "0.5522751141714051 | 0.7595169129561987 | 0.34677407124905846\n"
     ]
    }
   ],
   "source": [
    "operator_strings = ['ZZZI', 'ZZIZ', 'ZIZZ', 'IZZZ', 'XXXI', 'XXIX']\n",
    "\n",
    "for s in operator_strings: #this for loop is for Y HZH\n",
    "    \n",
    "    qc = circuit\n",
    "    \n",
    "    pauli_terms = [\n",
    "        (s, 1.0)\n",
    "    ]\n",
    "    \n",
    "    hamiltonian = SparsePauliOp.from_list(pauli_terms)\n",
    "    \n",
    "    for qubit in range(n):\n",
    "        if(s[qubit] == \"X\"):\n",
    "            qc.h(qubit)\n",
    "        \n",
    "        elif s[qubit] == \"Y\":\n",
    "           qc.sdg(qubit)  # Apply S^\\dagger gate (conjugate of S gate)\n",
    "           qc.h(qubit)\n",
    "          \n",
    "    \n",
    "    prob_list_ideal, statevector_ideal, exp_value_ideal = circuit_run(qc, backend_ideal, hamiltonian)\n",
    "    prob_list_fake, statevector_fake, exp_value_fake = circuit_run(qc, backend_fake, hamiltonian)\n",
    "            \n",
    "    '''\n",
    "    prob_list_ideal = circuit_run(circuit, backend_ideal, hamiltonian).prob_list\n",
    "    statevector_ideal = circuit_run(circuit, backend_ideal, hamiltonian).statevector     \n",
    "    exp_value_ideal = circuit_run(circuit, backend_ideal, hamiltonian).exp_value  \n",
    "                \n",
    "    prob_list_fake = circuit_run(circuit,backend_fake, hamiltonian).prob_list\n",
    "    statevector_fake = circuit_run(circuit,backend_fake, hamiltonian).statevector\n",
    "    exp_value_fake = circuit_run(circuit,backend_fake, hamiltonian).exp_val\n",
    "    \n",
    "    '''\n",
    "    \n",
    "    p_hammer = hammer(prob_list_fake,n)\n",
    "    statevector_fake_H = statevector_from_counts(p_hammer,n)\n",
    "    \n",
    "    exp_value_fake_H = compute_expectation(statevector_fake_H,hamiltonian)\n",
    "    print(exp_value_ideal, \"|\", exp_value_fake, \"|\", exp_value_fake_H)"
   ]
  },
  {
   "cell_type": "code",
   "execution_count": 14,
   "metadata": {},
   "outputs": [
    {
     "data": {
      "image/png": "[encoded data removed]",
      "text/plain": [
       "<Figure size 872.774x367.889 with 1 Axes>"
      ]
     },
     "execution_count": 14,
     "metadata": {},
     "output_type": "execute_result"
    }
   ],
   "source": [
    "circuit.decompose().draw(\"mpl\")"
   ]
  },
  {
   "cell_type": "code",
   "execution_count": null,
   "metadata": {},
   "outputs": [],
   "source": []
  }
 ],
 "metadata": {
  "kernelspec": {
   "display_name": "Manoj_Kumar_qiskit",
   "language": "python",
   "name": "python3"
  },
  "language_info": {
   "codemirror_mode": {
    "name": "ipython",
    "version": 3
   },
   "file_extension": ".py",
   "mimetype": "text/x-python",
   "name": "python",
   "nbconvert_exporter": "python",
   "pygments_lexer": "ipython3",
   "version": "3.12.3"
  }
 },
 "nbformat": 4,
 "nbformat_minor": 2
}
